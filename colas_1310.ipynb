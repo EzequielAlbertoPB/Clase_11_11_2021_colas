{
  "nbformat": 4,
  "nbformat_minor": 0,
  "metadata": {
    "colab": {
      "name": "colas_1310.ipynb",
      "provenance": []
    },
    "kernelspec": {
      "name": "python3",
      "display_name": "Python 3"
    },
    "language_info": {
      "name": "python"
    }
  },
  "cells": [
    {
      "cell_type": "code",
      "metadata": {
        "id": "3nmwG-sCKCTI"
      },
      "source": [
        "class Queue:\n",
        "  def __init__( self ):\n",
        "    self.data = []\n",
        "\n",
        "  def is_empty( self ):\n",
        "    return len( self.data ) == 0\n",
        "\n",
        "  def length( self ):\n",
        "    return len( self.data )\n",
        "  \n",
        "  def enqueue( self , value ):\n",
        "    self.data.append( value )\n",
        "\n",
        "  def dequeue( self ):\n",
        "    return self.data.pop(0)\n",
        "\n",
        "  def to_string( self ):\n",
        "    for elem in self.data:\n",
        "      print(f\"| { elem } | <--\" , end=\"\" )\n",
        "    print(\"\")\n",
        "  \n",
        "  "
      ],
      "execution_count": 4,
      "outputs": []
    },
    {
      "cell_type": "code",
      "metadata": {
        "colab": {
          "base_uri": "https://localhost:8080/"
        },
        "id": "jMeeVUzrMgda",
        "outputId": "a56e1179-eeff-47fa-a1f9-29dc82c3f36b"
      },
      "source": [
        "cola = Queue()\n",
        "\n",
        "cola.enqueue(10)\n",
        "cola.enqueue(20)\n",
        "cola.enqueue(30)\n",
        "\n",
        "print(\"Esta vacia la cola??: \" , cola.is_empty() )\n",
        "print(\"Numero de elementos: \" , cola.length() )\n",
        "\n",
        "cola.to_string()\n",
        "\n",
        "siguiente = cola.dequeue()\n",
        "print(\"Atendiendo a: \" , siguiente )\n",
        "cola.to_string()\n",
        "\n"
      ],
      "execution_count": 9,
      "outputs": [
        {
          "output_type": "stream",
          "name": "stdout",
          "text": [
            "Esta vacia la cola??:  False\n",
            "Numero de elementos:  3\n",
            "| 10 | <--| 20 | <--| 30 | <--\n",
            "Atendiendo a:  10\n",
            "| 20 | <--| 30 | <--\n"
          ]
        }
      ]
    },
    {
      "cell_type": "markdown",
      "metadata": {
        "id": "nnelRem8QsJX"
      },
      "source": [
        "#Variantes del ADT Cola\n",
        "1. Circulares\n",
        "2. Prioridad\n",
        "  21. Acotada\n",
        "  22. No Acotada"
      ]
    },
    {
      "cell_type": "code",
      "metadata": {
        "id": "kbY80bqfRDe5"
      },
      "source": [
        ""
      ],
      "execution_count": null,
      "outputs": []
    }
  ]
}